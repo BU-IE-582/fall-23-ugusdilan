{
 "cells": [
  {
   "cell_type": "code",
   "execution_count": null,
   "id": "9b8fda52",
   "metadata": {},
   "outputs": [],
   "source": [
    "import pandas as pd\n",
    "import os"
   ]
  },
  {
   "cell_type": "code",
   "execution_count": null,
   "id": "91ed5d3d",
   "metadata": {
    "lines_to_next_cell": 2
   },
   "outputs": [],
   "source": [
    "class Input():\n",
    "\n",
    "    def __init__(self, path):\n",
    "        # output number\n",
    "        self.path = path\n",
    "\n",
    "    def nan_check(self,df):\n",
    "\n",
    "        nan_counts = df.isna().sum()\n",
    "        print(f\"\"\"NaN counts in df\\n:{nan_counts}\"\"\")\n",
    "        df_wo_nan = df.dropna()\n",
    "\n",
    "\n",
    "        return df_wo_nan\n",
    "\n",
    "    def remove_duplicates(self,df, subset_columns):\n",
    "\n",
    "        df_no_duplicates = df.drop_duplicates(subset=subset_columns, keep='first')\n",
    "\n",
    "        return df_no_duplicates\n",
    "\n",
    "\n",
    "\n",
    "    def concatenate_csv_files(self):\n",
    "\n",
    "        # Get a list of all CSV files in the folder\n",
    "        csv_files = [file for file in os.listdir(self.path) if file.endswith('.csv')]\n",
    "\n",
    "        # Initialize an empty DataFrame to store the concatenated data\n",
    "        concatenated_df = pd.DataFrame()\n",
    "\n",
    "        # Loop through each CSV file and concatenate its data to the DataFrame\n",
    "        for file in csv_files:\n",
    "            file_path = os.path.join(self.path, file)\n",
    "            df = pd.read_csv(file_path)\n",
    "            concatenated_df = pd.concat([concatenated_df, df])\n",
    "\n",
    "        concatenated_df['timestamp']=pd.to_datetime(concatenated_df['timestamp']).dt.tz_localize(None)\n",
    "\n",
    "\n",
    "        concatenated_df=self.nan_check(concatenated_df)\n",
    "        concatenated_df=self.remove_duplicates(concatenated_df,['timestamp','short_name'])\n",
    "\n",
    "        concatenated_df.set_index(['timestamp'], inplace=True)\n",
    "\n",
    "\n",
    "        return concatenated_df"
   ]
  }
 ],
 "metadata": {
  "jupytext": {
   "cell_metadata_filter": "-all",
   "main_language": "python",
   "notebook_metadata_filter": "-all"
  },
  "kernelspec": {
   "display_name": "Python 3 (ipykernel)",
   "language": "python",
   "name": "python3"
  },
  "language_info": {
   "codemirror_mode": {
    "name": "ipython",
    "version": 3
   },
   "file_extension": ".py",
   "mimetype": "text/x-python",
   "name": "python",
   "nbconvert_exporter": "python",
   "pygments_lexer": "ipython3",
   "version": "3.9.12"
  }
 },
 "nbformat": 4,
 "nbformat_minor": 5
}
