{
 "cells": [
  {
   "cell_type": "code",
   "execution_count": null,
   "id": "abc88e9f",
   "metadata": {
    "lines_to_next_cell": 1
   },
   "outputs": [],
   "source": [
    "from datetime import timedelta,datetime\n",
    "import pandas as pd\n",
    "import numpy as np"
   ]
  },
  {
   "cell_type": "code",
   "execution_count": null,
   "id": "4614a657",
   "metadata": {
    "lines_to_next_cell": 2
   },
   "outputs": [],
   "source": [
    "class ForecastIntraday():\n",
    "\n",
    "\n",
    "    def forecastDateRange(self, df, Ntest):\n",
    "        last = df.dropna()\n",
    "        last_timestamp = last.index[-1] + timedelta(hours=24)\n",
    "        first_timestamp = last_timestamp - timedelta(minutes=(Ntest-1)*60)\n",
    "        forecast_date_range = pd.date_range(start=first_timestamp, end=last_timestamp, freq='60min')\n",
    "\n",
    "        return forecast_date_range\n",
    "\n",
    "    def getLastRealized(self,df,T):\n",
    "        df_last_day = df.dropna()[-T:]\n",
    "\n",
    "        return df_last_day\n",
    "\n",
    "    def getCurrentForecast(self,df,best_model,scaler,T,Ntest,featureNumber,stockname):\n",
    "        df_last_day=self.getLastRealized(df,T)\n",
    "        print(df_last_day)\n",
    "        forecast_range=self.forecastDateRange(df,Ntest)\n",
    "        df_last_day = pd.DataFrame(scaler.transform(df_last_day.values))\n",
    "        df_last_day.columns = ['price']\n",
    "        df_last_day.set_index(forecast_range, inplace=True)\n",
    "\n",
    "        df_last_day['Seconds'] = df_last_day.index.map(pd.Timestamp.timestamp)\n",
    "        day = 60 * 60 * 24\n",
    "        year = 365.2425 * day\n",
    "\n",
    "        df_last_day['Day sin'] = np.sin(df_last_day['Seconds'] * (2 * np.pi / day))\n",
    "        df_last_day['Day cos'] = np.cos(df_last_day['Seconds'] * (2 * np.pi / day))\n",
    "        df_last_day['Year sin'] = np.sin(df_last_day['Seconds'] * (2 * np.pi / year))\n",
    "        df_last_day['Year cos'] = np.cos(df_last_day['Seconds'] * (2 * np.pi / year))\n",
    "        df_last_day.drop(columns={'Seconds'}, inplace=True)\n",
    "\n",
    "\n",
    "        X_last_day = df_last_day.to_numpy()\n",
    "        X_last_day = X_last_day.reshape(-1, T, featureNumber)\n",
    "\n",
    "        Plast_day = best_model.predict(X_last_day)\n",
    "        Plast_day = scaler.inverse_transform(Plast_day)\n",
    "\n",
    "        forecast_df = pd.DataFrame({'timestamp_cet': forecast_range, 'forecast': Plast_day.flatten()})\n",
    "        forecast_df['update_time']=datetime.now().replace(second=0, microsecond=0)\n",
    "        forecast_df['forecast_label']=stockname\n",
    "        forecast_df['forecast_label']=forecast_df['forecast_label'].astype('string')\n",
    "        # print(forecast_df.dtypes)\n",
    "\n",
    "        return forecast_df"
   ]
  }
 ],
 "metadata": {
  "jupytext": {
   "cell_metadata_filter": "-all",
   "main_language": "python",
   "notebook_metadata_filter": "-all"
  }
 },
 "nbformat": 4,
 "nbformat_minor": 5
}
